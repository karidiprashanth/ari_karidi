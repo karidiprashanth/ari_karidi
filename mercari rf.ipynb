{
 "cells": [
  {
   "cell_type": "code",
   "execution_count": 15,
   "metadata": {},
   "outputs": [],
   "source": [
    "import numpy as np\n",
    "import pandas as pd\n",
    "import sklearn as sk\n",
    "import matplotlib.pyplot as plt\n",
    "from sklearn.metrics import confusion_matrix \n",
    "from sklearn.model_selection import train_test_split \n",
    "\n",
    "from sklearn import linear_model\n",
    "from sklearn.linear_model import LogisticRegression\n",
    "from sklearn.ensemble import RandomForestClassifier\n",
    "from sklearn.model_selection import RandomizedSearchCV\n",
    "from sklearn import metrics\n",
    "\n",
    "#Import Data\n",
    "dataset=pd.read_csv('train.csv',sep=',',header=0)"
   ]
  },
  {
   "cell_type": "code",
   "execution_count": 16,
   "metadata": {},
   "outputs": [],
   "source": [
    "dataset['condition_numeric'] = dataset.condition.map({\n",
    "   'Fair': 0,\n",
    "   'Good': 1,\n",
    "   'Like New': 2\n",
    "})\n",
    "dataset['area_number_numberic'] = dataset.area_name.map({\n",
    "   'fff': 0,\n",
    "   'aaa': 1,\n",
    "   'ddd': 2,\n",
    "   'jjj': 3,\n",
    "   'hhh': 4,\n",
    "   'bbb': 5,\n",
    "   'ccc': 6,\n",
    "   'ggg': 7,\n",
    "   'kkk': 8,\n",
    "   'eee': 9\n",
    "})\n",
    "dataset['day_number_numberic'] = dataset.day.map({\n",
    "   'Sun': 0,\n",
    "   'Mon': 1,\n",
    "   'Tue': 2,\n",
    "   'Wed': 3,\n",
    "   'Thu': 4,\n",
    "   'Fri': 5,\n",
    "   'Sat': 6\n",
    "})\n"
   ]
  },
  {
   "cell_type": "code",
   "execution_count": 18,
   "metadata": {},
   "outputs": [],
   "source": [
    "X = dataset[[\n",
    "   'item_id', 'sold_price', 'price', 'area_number_numberic',\n",
    "   'condition_numeric', 'size' ,'day_number_numberic', 'hour'\n",
    "]]\n",
    "y = dataset.category_class\n",
    "y = y.astype(int)\n",
    "X_train, X_test, y_train, y_test = train_test_split(\n",
    "   X, y, test_size=0.2, random_state=20)"
   ]
  },
  {
   "cell_type": "code",
   "execution_count": 19,
   "metadata": {},
   "outputs": [
    {
     "name": "stdout",
     "output_type": "stream",
     "text": [
      "0.5285714285714286\n"
     ]
    },
    {
     "name": "stderr",
     "output_type": "stream",
     "text": [
      "C:\\ProgramData\\Anaconda3\\lib\\site-packages\\sklearn\\linear_model\\logistic.py:432: FutureWarning: Default solver will be changed to 'lbfgs' in 0.22. Specify a solver to silence this warning.\n",
      "  FutureWarning)\n",
      "C:\\ProgramData\\Anaconda3\\lib\\site-packages\\sklearn\\linear_model\\logistic.py:459: FutureWarning: Default multi_class will be changed to 'auto' in 0.22. Specify the multi_class option to silence this warning.\n",
      "  \"this warning.\", FutureWarning)\n"
     ]
    }
   ],
   "source": [
    "linear_classifier=LogisticRegression()\n",
    "linear_classifier.fit(X_train,y_train)\n",
    "LC_Predicted_Results=linear_classifier.predict(X_test)\n",
    "print(metrics.accuracy_score(LC_Predicted_Results, y_test))"
   ]
  },
  {
   "cell_type": "code",
   "execution_count": 20,
   "metadata": {},
   "outputs": [
    {
     "name": "stdout",
     "output_type": "stream",
     "text": [
      "0.5214285714285715\n"
     ]
    },
    {
     "name": "stderr",
     "output_type": "stream",
     "text": [
      "C:\\ProgramData\\Anaconda3\\lib\\site-packages\\sklearn\\ensemble\\forest.py:248: FutureWarning: The default value of n_estimators will change from 10 in version 0.20 to 100 in 0.22.\n",
      "  \"10 in version 0.20 to 100 in 0.22.\", FutureWarning)\n"
     ]
    }
   ],
   "source": [
    "random_classifier = RandomForestClassifier()\n",
    "random_classifier.fit(X_train, y_train)\n",
    "predicted_results = random_classifier.predict(X_test)\n",
    "print(metrics.accuracy_score(predicted_results, y_test))"
   ]
  },
  {
   "cell_type": "code",
   "execution_count": 21,
   "metadata": {},
   "outputs": [],
   "source": [
    "from sklearn.model_selection import RandomizedSearchCV\n",
    "# Number of trees in random forest\n",
    "n_estimators = [int(x) for x in np.linspace(start = 200, stop = 2000, num = 10)]\n",
    "# Number of features to consider at every split\n",
    "max_features = ['auto', 'sqrt']\n",
    "# Maximum number of levels in tree\n",
    "max_depth = [int(x) for x in np.linspace(10, 110, num = 11)]\n",
    "max_depth.append(None)\n",
    "# Minimum number of samples required to split a node\n",
    "min_samples_split = [2, 5, 10]\n",
    "# Minimum number of samples required at each leaf node\n",
    "min_samples_leaf = [1, 2, 4]\n",
    "# Method of selecting samples for training each tree\n",
    "bootstrap = [True, False]\n",
    "# Create the random grid\n",
    "random_grid = {'n_estimators': n_estimators,\n",
    "               'max_features': max_features,\n",
    "               'max_depth': max_depth,\n",
    "               'min_samples_split': min_samples_split,\n",
    "               'min_samples_leaf': min_samples_leaf,\n",
    "               'bootstrap': bootstrap}"
   ]
  },
  {
   "cell_type": "code",
   "execution_count": 22,
   "metadata": {},
   "outputs": [
    {
     "name": "stdout",
     "output_type": "stream",
     "text": [
      "Fitting 3 folds for each of 100 candidates, totalling 300 fits\n"
     ]
    },
    {
     "name": "stderr",
     "output_type": "stream",
     "text": [
      "[Parallel(n_jobs=-1)]: Using backend LokyBackend with 4 concurrent workers.\n",
      "[Parallel(n_jobs=-1)]: Done  33 tasks      | elapsed:   32.9s\n",
      "[Parallel(n_jobs=-1)]: Done 154 tasks      | elapsed:  2.0min\n",
      "[Parallel(n_jobs=-1)]: Done 300 out of 300 | elapsed:  3.9min finished\n",
      "C:\\ProgramData\\Anaconda3\\lib\\site-packages\\sklearn\\model_selection\\_search.py:841: DeprecationWarning: The default of the `iid` parameter will change from True to False in version 0.22 and will be removed in 0.24. This will change numeric results when test-set sizes are unequal.\n",
      "  DeprecationWarning)\n"
     ]
    },
    {
     "name": "stdout",
     "output_type": "stream",
     "text": [
      "tuned hpyerparameters :(best parameters)  {'n_estimators': 1400, 'min_samples_split': 5, 'min_samples_leaf': 4, 'max_features': 'sqrt', 'max_depth': 80, 'bootstrap': True}\n",
      "accuracy : 0.5803571428571429\n"
     ]
    }
   ],
   "source": [
    " rf = RandomForestClassifier()\n",
    " rf_random = RandomizedSearchCV(estimator = rf, param_distributions = random_grid, n_iter = 100, cv = 3, verbose=2, random_state=42, n_jobs = -1)\n",
    " rf_random.fit(X_train,y_train)\n",
    " print(\"tuned hpyerparameters :(best parameters) \",rf_random.best_params_)\n",
    " print(\"accuracy :\",rf_random.best_score_)"
   ]
  },
  {
   "cell_type": "code",
   "execution_count": 23,
   "metadata": {},
   "outputs": [
    {
     "name": "stdout",
     "output_type": "stream",
     "text": [
      "0.5857142857142857\n"
     ]
    }
   ],
   "source": [
    "random_classifier = RandomForestClassifier(n_estimators = 1400, min_samples_split = 5, min_samples_leaf = 4, max_features = 'sqrt', max_depth = 80, bootstrap= True)\n",
    "random_classifier.fit(X_train, y_train)\n",
    "predicted_results = random_classifier.predict(X_test)\n",
    "print(metrics.accuracy_score(predicted_results, y_test))"
   ]
  },
  {
   "cell_type": "code",
   "execution_count": 10,
   "metadata": {},
   "outputs": [],
   "source": [
    "#Import Data\n",
    "testset=pd.read_csv('test.csv',sep=',',header=0)"
   ]
  },
  {
   "cell_type": "code",
   "execution_count": 24,
   "metadata": {},
   "outputs": [],
   "source": [
    "testset['condition_numeric'] = testset.condition.map({\n",
    "   'Fair': 0,\n",
    "   'Good': 1,\n",
    "   'Like New': 2\n",
    "})\n",
    "testset['area_number_numberic'] = testset.area_name.map({\n",
    "   'fff': 0,\n",
    "   'aaa': 1,\n",
    "   'ddd': 2,\n",
    "   'jjj': 3,\n",
    "   'hhh': 4,\n",
    "   'bbb': 5,\n",
    "   'ccc': 6,\n",
    "   'ggg': 7,\n",
    "   'kkk': 8,\n",
    "   'eee': 9\n",
    "})\n",
    "testset['day_number_numberic'] = testset.day.map({\n",
    "   'Sun': 0,\n",
    "   'Mon': 1,\n",
    "   'Tue': 2,\n",
    "   'Wed': 3,\n",
    "   'Thu': 4,\n",
    "   'Fri': 5,\n",
    "   'Sat': 6\n",
    "})"
   ]
  },
  {
   "cell_type": "code",
   "execution_count": 25,
   "metadata": {},
   "outputs": [],
   "source": [
    "X1 = testset[[\n",
    "   'item_id', 'sold_price', 'price', 'area_number_numberic',\n",
    "   'condition_numeric', 'size', 'day_number_numberic', 'hour'\n",
    "]]"
   ]
  },
  {
   "cell_type": "code",
   "execution_count": 26,
   "metadata": {},
   "outputs": [],
   "source": [
    "output = random_classifier.predict(X1)"
   ]
  },
  {
   "cell_type": "code",
   "execution_count": 27,
   "metadata": {},
   "outputs": [
    {
     "name": "stdout",
     "output_type": "stream",
     "text": [
      "[2 0 1 1 2 0 0 0 0 1 2 0 0 3 0 2 3 1 0 2 2 0 2 0 1 0 4 2 2 0 0 1 2 0 1 0 2\n",
      " 1 0 0 0 4 0 2 1 1 1 0 1 0 2 1 1 3 2 0 0 1 0 0 2 2 0 1 1 0 1 0 0 0 2 0 3 1\n",
      " 0 0 1 2 2 0 0 4 1 0 0 4 2 1 1 1 3 2 1 2 3 2 0 0 0 0 3 0 3 2 0 2 4 1 3 1 0\n",
      " 0 1 2 2 0 1 0 0 2 0 0 2 0 0 0 0 2 0 0 0 4 0 3 4 2 0 3 0 0 2 0 3 0 0 2 3 1\n",
      " 0 0 0 0 0 3 2 3 3 1 0 0 0 3 2 4 0 2 2 1 2 4 0 0 0 2 1 1 2 0 1 1 2 0 3 2 1\n",
      " 0 1 0 2 0 3 1 1 0 1 2 0 2 4 2 2 2 0 0 2 0 0 3 2 2 0 0 0 2 0 1 2 2 4 0 1 3\n",
      " 2 0 0 2 1 0 2 1 0 0 1 0 1 4 1 1 2 0 4 0 0 0 2 1 3 0 2 3 1 0 0 1 1 2 4 0 3\n",
      " 0 3 1 0 2 0 0 2 0 3 1 0 2 0 0 2 0 1 0 0 1 2 1 1 2 0 2 0 0 0 3 0 0 3 0 1 0\n",
      " 3 1 2 1]\n"
     ]
    }
   ],
   "source": [
    "print(output)"
   ]
  },
  {
   "cell_type": "code",
   "execution_count": null,
   "metadata": {},
   "outputs": [],
   "source": []
  }
 ],
 "metadata": {
  "kernelspec": {
   "display_name": "Python 3",
   "language": "python",
   "name": "python3"
  },
  "language_info": {
   "codemirror_mode": {
    "name": "ipython",
    "version": 3
   },
   "file_extension": ".py",
   "mimetype": "text/x-python",
   "name": "python",
   "nbconvert_exporter": "python",
   "pygments_lexer": "ipython3",
   "version": "3.6.6"
  }
 },
 "nbformat": 4,
 "nbformat_minor": 2
}
