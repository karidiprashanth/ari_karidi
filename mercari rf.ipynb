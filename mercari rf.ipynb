{
 "cells": [
  {
   "cell_type": "code",
   "execution_count": 15,
   "metadata": {},
   "outputs": [],
   "source": [
    "import numpy as np\n",
    "import pandas as pd\n",
    "import sklearn as sk\n",
    "import matplotlib.pyplot as plt\n",
    "from sklearn.metrics import confusion_matrix \n",
    "from sklearn.model_selection import train_test_split \n",
    "\n",
    "from sklearn import linear_model\n",
    "from sklearn.linear_model import LogisticRegression\n",
    "from sklearn.ensemble import RandomForestClassifier\n",
    "from sklearn.model_selection import RandomizedSearchCV\n",
    "from sklearn import metrics\n",
    "\n",
    "#Import Data\n",
    "dataset=pd.read_csv('train.csv',sep=',',header=0)"
   ]
  },
  {
   "cell_type": "code",
   "execution_count": 16,
   "metadata": {},
   "outputs": [],
   "source": [
    "dataset['condition_numeric'] = dataset.condition.map({\n",
    "   'Fair': 0,\n",
    "   'Good': 1,\n",
    "   'Like New': 2\n",
    "})\n",
    "dataset['area_number_numberic'] = dataset.area_name.map({\n",
    "   'fff': 0,\n",
    "   'aaa': 1,\n",
    "   'ddd': 2,\n",
    "   'jjj': 3,\n",
    "   'hhh': 4,\n",
    "   'bbb': 5,\n",
    "   'ccc': 6,\n",
    "   'ggg': 7,\n",
    "   'kkk': 8,\n",
    "   'eee': 9\n",
    "})\n",
    "dataset['day_number_numberic'] = dataset.day.map({\n",
    "   'Sun': 0,\n",
    "   'Mon': 1,\n",
    "   'Tue': 2,\n",
    "   'Wed': 3,\n",
    "   'Thu': 4,\n",
    "   'Fri': 5,\n",
    "   'Sat': 6\n",
    "})\n"
   ]
  },
  {
   "cell_type": "code",
   "execution_count": 28,
   "metadata": {},
   "outputs": [
    {
     "data": {
      "text/html": [
       "<div>\n",
       "<style scoped>\n",
       "    .dataframe tbody tr th:only-of-type {\n",
       "        vertical-align: middle;\n",
       "    }\n",
       "\n",
       "    .dataframe tbody tr th {\n",
       "        vertical-align: top;\n",
       "    }\n",
       "\n",
       "    .dataframe thead th {\n",
       "        text-align: right;\n",
       "    }\n",
       "</style>\n",
       "<table border=\"1\" class=\"dataframe\">\n",
       "  <thead>\n",
       "    <tr style=\"text-align: right;\">\n",
       "      <th></th>\n",
       "      <th>item_id</th>\n",
       "      <th>category_class</th>\n",
       "      <th>sold_price</th>\n",
       "      <th>price</th>\n",
       "      <th>size</th>\n",
       "      <th>hour</th>\n",
       "      <th>condition_numeric</th>\n",
       "      <th>area_number_numberic</th>\n",
       "      <th>day_number_numberic</th>\n",
       "    </tr>\n",
       "  </thead>\n",
       "  <tbody>\n",
       "    <tr>\n",
       "      <th>count</th>\n",
       "      <td>700.000000</td>\n",
       "      <td>700.000000</td>\n",
       "      <td>700.000000</td>\n",
       "      <td>700.000000</td>\n",
       "      <td>700.000000</td>\n",
       "      <td>700.000000</td>\n",
       "      <td>700.000000</td>\n",
       "      <td>700.000000</td>\n",
       "      <td>700.000000</td>\n",
       "    </tr>\n",
       "    <tr>\n",
       "      <th>mean</th>\n",
       "      <td>5529.531429</td>\n",
       "      <td>1.498571</td>\n",
       "      <td>1092.124286</td>\n",
       "      <td>1118.312857</td>\n",
       "      <td>9.407143</td>\n",
       "      <td>11.471429</td>\n",
       "      <td>0.988571</td>\n",
       "      <td>4.562857</td>\n",
       "      <td>2.611429</td>\n",
       "    </tr>\n",
       "    <tr>\n",
       "      <th>std</th>\n",
       "      <td>2590.820764</td>\n",
       "      <td>1.359015</td>\n",
       "      <td>201.949030</td>\n",
       "      <td>298.301200</td>\n",
       "      <td>7.804199</td>\n",
       "      <td>6.852255</td>\n",
       "      <td>0.782415</td>\n",
       "      <td>2.850152</td>\n",
       "      <td>1.462115</td>\n",
       "    </tr>\n",
       "    <tr>\n",
       "      <th>min</th>\n",
       "      <td>1041.000000</td>\n",
       "      <td>0.000000</td>\n",
       "      <td>646.000000</td>\n",
       "      <td>645.000000</td>\n",
       "      <td>0.000000</td>\n",
       "      <td>0.000000</td>\n",
       "      <td>0.000000</td>\n",
       "      <td>0.000000</td>\n",
       "      <td>0.000000</td>\n",
       "    </tr>\n",
       "    <tr>\n",
       "      <th>25%</th>\n",
       "      <td>3309.250000</td>\n",
       "      <td>0.000000</td>\n",
       "      <td>948.750000</td>\n",
       "      <td>948.000000</td>\n",
       "      <td>4.000000</td>\n",
       "      <td>5.000000</td>\n",
       "      <td>0.000000</td>\n",
       "      <td>2.000000</td>\n",
       "      <td>2.000000</td>\n",
       "    </tr>\n",
       "    <tr>\n",
       "      <th>50%</th>\n",
       "      <td>5556.500000</td>\n",
       "      <td>1.000000</td>\n",
       "      <td>1059.000000</td>\n",
       "      <td>1058.000000</td>\n",
       "      <td>7.000000</td>\n",
       "      <td>12.000000</td>\n",
       "      <td>1.000000</td>\n",
       "      <td>5.000000</td>\n",
       "      <td>3.000000</td>\n",
       "    </tr>\n",
       "    <tr>\n",
       "      <th>75%</th>\n",
       "      <td>7617.500000</td>\n",
       "      <td>2.000000</td>\n",
       "      <td>1188.250000</td>\n",
       "      <td>1193.750000</td>\n",
       "      <td>12.000000</td>\n",
       "      <td>17.000000</td>\n",
       "      <td>2.000000</td>\n",
       "      <td>7.000000</td>\n",
       "      <td>4.000000</td>\n",
       "    </tr>\n",
       "    <tr>\n",
       "      <th>max</th>\n",
       "      <td>9990.000000</td>\n",
       "      <td>4.000000</td>\n",
       "      <td>1874.000000</td>\n",
       "      <td>3181.000000</td>\n",
       "      <td>59.000000</td>\n",
       "      <td>23.000000</td>\n",
       "      <td>2.000000</td>\n",
       "      <td>9.000000</td>\n",
       "      <td>6.000000</td>\n",
       "    </tr>\n",
       "  </tbody>\n",
       "</table>\n",
       "</div>"
      ],
      "text/plain": [
       "           item_id  category_class   sold_price        price        size  \\\n",
       "count   700.000000      700.000000   700.000000   700.000000  700.000000   \n",
       "mean   5529.531429        1.498571  1092.124286  1118.312857    9.407143   \n",
       "std    2590.820764        1.359015   201.949030   298.301200    7.804199   \n",
       "min    1041.000000        0.000000   646.000000   645.000000    0.000000   \n",
       "25%    3309.250000        0.000000   948.750000   948.000000    4.000000   \n",
       "50%    5556.500000        1.000000  1059.000000  1058.000000    7.000000   \n",
       "75%    7617.500000        2.000000  1188.250000  1193.750000   12.000000   \n",
       "max    9990.000000        4.000000  1874.000000  3181.000000   59.000000   \n",
       "\n",
       "             hour  condition_numeric  area_number_numberic  \\\n",
       "count  700.000000         700.000000            700.000000   \n",
       "mean    11.471429           0.988571              4.562857   \n",
       "std      6.852255           0.782415              2.850152   \n",
       "min      0.000000           0.000000              0.000000   \n",
       "25%      5.000000           0.000000              2.000000   \n",
       "50%     12.000000           1.000000              5.000000   \n",
       "75%     17.000000           2.000000              7.000000   \n",
       "max     23.000000           2.000000              9.000000   \n",
       "\n",
       "       day_number_numberic  \n",
       "count           700.000000  \n",
       "mean              2.611429  \n",
       "std               1.462115  \n",
       "min               0.000000  \n",
       "25%               2.000000  \n",
       "50%               3.000000  \n",
       "75%               4.000000  \n",
       "max               6.000000  "
      ]
     },
     "execution_count": 28,
     "metadata": {},
     "output_type": "execute_result"
    }
   ],
   "source": [
    "dataset.describe()"
   ]
  },
  {
   "cell_type": "code",
   "execution_count": 29,
   "metadata": {},
   "outputs": [
    {
     "data": {
      "text/html": [
       "<div>\n",
       "<style scoped>\n",
       "    .dataframe tbody tr th:only-of-type {\n",
       "        vertical-align: middle;\n",
       "    }\n",
       "\n",
       "    .dataframe tbody tr th {\n",
       "        vertical-align: top;\n",
       "    }\n",
       "\n",
       "    .dataframe thead th {\n",
       "        text-align: right;\n",
       "    }\n",
       "</style>\n",
       "<table border=\"1\" class=\"dataframe\">\n",
       "  <thead>\n",
       "    <tr style=\"text-align: right;\">\n",
       "      <th></th>\n",
       "      <th>item_id</th>\n",
       "      <th>category_class</th>\n",
       "      <th>sold_price</th>\n",
       "      <th>price</th>\n",
       "      <th>size</th>\n",
       "      <th>hour</th>\n",
       "      <th>condition_numeric</th>\n",
       "      <th>area_number_numberic</th>\n",
       "      <th>day_number_numberic</th>\n",
       "    </tr>\n",
       "  </thead>\n",
       "  <tbody>\n",
       "    <tr>\n",
       "      <th>item_id</th>\n",
       "      <td>1.000000</td>\n",
       "      <td>0.007376</td>\n",
       "      <td>-0.001447</td>\n",
       "      <td>0.018117</td>\n",
       "      <td>-0.016210</td>\n",
       "      <td>0.076700</td>\n",
       "      <td>0.087427</td>\n",
       "      <td>0.004362</td>\n",
       "      <td>0.038368</td>\n",
       "    </tr>\n",
       "    <tr>\n",
       "      <th>category_class</th>\n",
       "      <td>0.007376</td>\n",
       "      <td>1.000000</td>\n",
       "      <td>0.003725</td>\n",
       "      <td>0.045501</td>\n",
       "      <td>0.156726</td>\n",
       "      <td>-0.025122</td>\n",
       "      <td>0.037657</td>\n",
       "      <td>0.018306</td>\n",
       "      <td>-0.076597</td>\n",
       "    </tr>\n",
       "    <tr>\n",
       "      <th>sold_price</th>\n",
       "      <td>-0.001447</td>\n",
       "      <td>0.003725</td>\n",
       "      <td>1.000000</td>\n",
       "      <td>0.776618</td>\n",
       "      <td>0.440042</td>\n",
       "      <td>-0.011060</td>\n",
       "      <td>0.171231</td>\n",
       "      <td>0.040337</td>\n",
       "      <td>0.048115</td>\n",
       "    </tr>\n",
       "    <tr>\n",
       "      <th>price</th>\n",
       "      <td>0.018117</td>\n",
       "      <td>0.045501</td>\n",
       "      <td>0.776618</td>\n",
       "      <td>1.000000</td>\n",
       "      <td>0.447971</td>\n",
       "      <td>-0.007915</td>\n",
       "      <td>0.162376</td>\n",
       "      <td>0.054239</td>\n",
       "      <td>0.049008</td>\n",
       "    </tr>\n",
       "    <tr>\n",
       "      <th>size</th>\n",
       "      <td>-0.016210</td>\n",
       "      <td>0.156726</td>\n",
       "      <td>0.440042</td>\n",
       "      <td>0.447971</td>\n",
       "      <td>1.000000</td>\n",
       "      <td>-0.018281</td>\n",
       "      <td>0.067771</td>\n",
       "      <td>0.024478</td>\n",
       "      <td>0.094752</td>\n",
       "    </tr>\n",
       "    <tr>\n",
       "      <th>hour</th>\n",
       "      <td>0.076700</td>\n",
       "      <td>-0.025122</td>\n",
       "      <td>-0.011060</td>\n",
       "      <td>-0.007915</td>\n",
       "      <td>-0.018281</td>\n",
       "      <td>1.000000</td>\n",
       "      <td>-0.102261</td>\n",
       "      <td>0.017087</td>\n",
       "      <td>-0.124340</td>\n",
       "    </tr>\n",
       "    <tr>\n",
       "      <th>condition_numeric</th>\n",
       "      <td>0.087427</td>\n",
       "      <td>0.037657</td>\n",
       "      <td>0.171231</td>\n",
       "      <td>0.162376</td>\n",
       "      <td>0.067771</td>\n",
       "      <td>-0.102261</td>\n",
       "      <td>1.000000</td>\n",
       "      <td>0.011229</td>\n",
       "      <td>0.047385</td>\n",
       "    </tr>\n",
       "    <tr>\n",
       "      <th>area_number_numberic</th>\n",
       "      <td>0.004362</td>\n",
       "      <td>0.018306</td>\n",
       "      <td>0.040337</td>\n",
       "      <td>0.054239</td>\n",
       "      <td>0.024478</td>\n",
       "      <td>0.017087</td>\n",
       "      <td>0.011229</td>\n",
       "      <td>1.000000</td>\n",
       "      <td>-0.026057</td>\n",
       "    </tr>\n",
       "    <tr>\n",
       "      <th>day_number_numberic</th>\n",
       "      <td>0.038368</td>\n",
       "      <td>-0.076597</td>\n",
       "      <td>0.048115</td>\n",
       "      <td>0.049008</td>\n",
       "      <td>0.094752</td>\n",
       "      <td>-0.124340</td>\n",
       "      <td>0.047385</td>\n",
       "      <td>-0.026057</td>\n",
       "      <td>1.000000</td>\n",
       "    </tr>\n",
       "  </tbody>\n",
       "</table>\n",
       "</div>"
      ],
      "text/plain": [
       "                       item_id  category_class  sold_price     price  \\\n",
       "item_id               1.000000        0.007376   -0.001447  0.018117   \n",
       "category_class        0.007376        1.000000    0.003725  0.045501   \n",
       "sold_price           -0.001447        0.003725    1.000000  0.776618   \n",
       "price                 0.018117        0.045501    0.776618  1.000000   \n",
       "size                 -0.016210        0.156726    0.440042  0.447971   \n",
       "hour                  0.076700       -0.025122   -0.011060 -0.007915   \n",
       "condition_numeric     0.087427        0.037657    0.171231  0.162376   \n",
       "area_number_numberic  0.004362        0.018306    0.040337  0.054239   \n",
       "day_number_numberic   0.038368       -0.076597    0.048115  0.049008   \n",
       "\n",
       "                          size      hour  condition_numeric  \\\n",
       "item_id              -0.016210  0.076700           0.087427   \n",
       "category_class        0.156726 -0.025122           0.037657   \n",
       "sold_price            0.440042 -0.011060           0.171231   \n",
       "price                 0.447971 -0.007915           0.162376   \n",
       "size                  1.000000 -0.018281           0.067771   \n",
       "hour                 -0.018281  1.000000          -0.102261   \n",
       "condition_numeric     0.067771 -0.102261           1.000000   \n",
       "area_number_numberic  0.024478  0.017087           0.011229   \n",
       "day_number_numberic   0.094752 -0.124340           0.047385   \n",
       "\n",
       "                      area_number_numberic  day_number_numberic  \n",
       "item_id                           0.004362             0.038368  \n",
       "category_class                    0.018306            -0.076597  \n",
       "sold_price                        0.040337             0.048115  \n",
       "price                             0.054239             0.049008  \n",
       "size                              0.024478             0.094752  \n",
       "hour                              0.017087            -0.124340  \n",
       "condition_numeric                 0.011229             0.047385  \n",
       "area_number_numberic              1.000000            -0.026057  \n",
       "day_number_numberic              -0.026057             1.000000  "
      ]
     },
     "execution_count": 29,
     "metadata": {},
     "output_type": "execute_result"
    }
   ],
   "source": [
    "dataset.corr()"
   ]
  },
  {
   "cell_type": "code",
   "execution_count": null,
   "metadata": {},
   "outputs": [],
   "source": [
    "#Finding Null values\n",
    "total = dataset.isnull().sum().sort_values(ascending=False)\n",
    "percent_1 = dataset.isnull().sum()/dataset.isnull().count()*100\n",
    "percent_2 = (round(percent_1, 1)).sort_values(ascending=False)\n",
    "missing_data = pd.concat([total, percent_2], axis=1, keys=['Total', '%'])\n",
    "missing_data.head(5)"
   ]
  },
  {
   "cell_type": "code",
   "execution_count": null,
   "metadata": {},
   "outputs": [],
   "source": [
    "# plot a histogram  \n",
    "dataset['price'].hist(bins=10)\n",
    "dataset['sold_price'].hist(bins=10)"
   ]
  },
  {
   "cell_type": "code",
   "execution_count": null,
   "metadata": {},
   "outputs": [],
   "source": [
    "# shows presence of a lot of outliers/extreme values \n",
    "dataset.boxplot(column='sold_price', by = 'category_class')\n",
    "dataset.boxplot(column='price',by = 'category_class')\n",
    "dataset.boxplot(column='size',by = 'sold_price')"
   ]
  },
  {
   "cell_type": "code",
   "execution_count": null,
   "metadata": {},
   "outputs": [],
   "source": [
    "# plotting points as a scatter plot \n",
    "x = dataset[\"size\"] \n",
    "y = dataset[\"sold_price\"] \n",
    "plt.scatter(x, y, label= \"stars\", color= \"m\",  \n",
    "            marker= \"*\", s=30) \n",
    "# x-axis label \n",
    "plt.xlabel('size') \n",
    "# frequency label \n",
    "plt.ylabel('sold_price') \n",
    "# function to show the plot \n",
    "plt.show() "
   ]
  },
  {
   "cell_type": "code",
   "execution_count": 18,
   "metadata": {},
   "outputs": [],
   "source": [
    "X = dataset[[\n",
    "   'item_id', 'sold_price', 'price', 'area_number_numberic',\n",
    "   'condition_numeric', 'size' ,'day_number_numberic', 'hour'\n",
    "]]\n",
    "y = dataset.category_class\n",
    "y = y.astype(int)\n",
    "X_train, X_test, y_train, y_test = train_test_split(\n",
    "   X, y, test_size=0.2, random_state=20)"
   ]
  },
  {
   "cell_type": "code",
   "execution_count": 19,
   "metadata": {},
   "outputs": [
    {
     "name": "stdout",
     "output_type": "stream",
     "text": [
      "0.5285714285714286\n"
     ]
    },
    {
     "name": "stderr",
     "output_type": "stream",
     "text": [
      "C:\\ProgramData\\Anaconda3\\lib\\site-packages\\sklearn\\linear_model\\logistic.py:432: FutureWarning: Default solver will be changed to 'lbfgs' in 0.22. Specify a solver to silence this warning.\n",
      "  FutureWarning)\n",
      "C:\\ProgramData\\Anaconda3\\lib\\site-packages\\sklearn\\linear_model\\logistic.py:459: FutureWarning: Default multi_class will be changed to 'auto' in 0.22. Specify the multi_class option to silence this warning.\n",
      "  \"this warning.\", FutureWarning)\n"
     ]
    }
   ],
   "source": [
    "linear_classifier=LogisticRegression()\n",
    "linear_classifier.fit(X_train,y_train)\n",
    "LC_Predicted_Results=linear_classifier.predict(X_test)\n",
    "print(metrics.accuracy_score(LC_Predicted_Results, y_test))"
   ]
  },
  {
   "cell_type": "code",
   "execution_count": 20,
   "metadata": {},
   "outputs": [
    {
     "name": "stdout",
     "output_type": "stream",
     "text": [
      "0.5214285714285715\n"
     ]
    },
    {
     "name": "stderr",
     "output_type": "stream",
     "text": [
      "C:\\ProgramData\\Anaconda3\\lib\\site-packages\\sklearn\\ensemble\\forest.py:248: FutureWarning: The default value of n_estimators will change from 10 in version 0.20 to 100 in 0.22.\n",
      "  \"10 in version 0.20 to 100 in 0.22.\", FutureWarning)\n"
     ]
    }
   ],
   "source": [
    "random_classifier = RandomForestClassifier()\n",
    "random_classifier.fit(X_train, y_train)\n",
    "predicted_results = random_classifier.predict(X_test)\n",
    "print(metrics.accuracy_score(predicted_results, y_test))"
   ]
  },
  {
   "cell_type": "code",
   "execution_count": 21,
   "metadata": {},
   "outputs": [],
   "source": [
    "from sklearn.model_selection import RandomizedSearchCV\n",
    "# Number of trees in random forest\n",
    "n_estimators = [int(x) for x in np.linspace(start = 200, stop = 2000, num = 10)]\n",
    "# Number of features to consider at every split\n",
    "max_features = ['auto', 'sqrt']\n",
    "# Maximum number of levels in tree\n",
    "max_depth = [int(x) for x in np.linspace(10, 110, num = 11)]\n",
    "max_depth.append(None)\n",
    "# Minimum number of samples required to split a node\n",
    "min_samples_split = [2, 5, 10]\n",
    "# Minimum number of samples required at each leaf node\n",
    "min_samples_leaf = [1, 2, 4]\n",
    "# Method of selecting samples for training each tree\n",
    "bootstrap = [True, False]\n",
    "# Create the random grid\n",
    "random_grid = {'n_estimators': n_estimators,\n",
    "               'max_features': max_features,\n",
    "               'max_depth': max_depth,\n",
    "               'min_samples_split': min_samples_split,\n",
    "               'min_samples_leaf': min_samples_leaf,\n",
    "               'bootstrap': bootstrap}"
   ]
  },
  {
   "cell_type": "code",
   "execution_count": 22,
   "metadata": {},
   "outputs": [
    {
     "name": "stdout",
     "output_type": "stream",
     "text": [
      "Fitting 3 folds for each of 100 candidates, totalling 300 fits\n"
     ]
    },
    {
     "name": "stderr",
     "output_type": "stream",
     "text": [
      "[Parallel(n_jobs=-1)]: Using backend LokyBackend with 4 concurrent workers.\n",
      "[Parallel(n_jobs=-1)]: Done  33 tasks      | elapsed:   32.9s\n",
      "[Parallel(n_jobs=-1)]: Done 154 tasks      | elapsed:  2.0min\n",
      "[Parallel(n_jobs=-1)]: Done 300 out of 300 | elapsed:  3.9min finished\n",
      "C:\\ProgramData\\Anaconda3\\lib\\site-packages\\sklearn\\model_selection\\_search.py:841: DeprecationWarning: The default of the `iid` parameter will change from True to False in version 0.22 and will be removed in 0.24. This will change numeric results when test-set sizes are unequal.\n",
      "  DeprecationWarning)\n"
     ]
    },
    {
     "name": "stdout",
     "output_type": "stream",
     "text": [
      "tuned hpyerparameters :(best parameters)  {'n_estimators': 1400, 'min_samples_split': 5, 'min_samples_leaf': 4, 'max_features': 'sqrt', 'max_depth': 80, 'bootstrap': True}\n",
      "accuracy : 0.5803571428571429\n"
     ]
    }
   ],
   "source": [
    " rf = RandomForestClassifier()\n",
    " rf_random = RandomizedSearchCV(estimator = rf, param_distributions = random_grid, n_iter = 100, cv = 3, verbose=2, random_state=42, n_jobs = -1)\n",
    " rf_random.fit(X_train,y_train)\n",
    " print(\"tuned hpyerparameters :(best parameters) \",rf_random.best_params_)\n",
    " print(\"accuracy :\",rf_random.best_score_)"
   ]
  },
  {
   "cell_type": "code",
   "execution_count": 23,
   "metadata": {},
   "outputs": [
    {
     "name": "stdout",
     "output_type": "stream",
     "text": [
      "0.5857142857142857\n"
     ]
    }
   ],
   "source": [
    "random_classifier = RandomForestClassifier(n_estimators = 1400, min_samples_split = 5, min_samples_leaf = 4, max_features = 'sqrt', max_depth = 80, bootstrap= True)\n",
    "random_classifier.fit(X_train, y_train)\n",
    "predicted_results = random_classifier.predict(X_test)\n",
    "print(metrics.accuracy_score(predicted_results, y_test))"
   ]
  },
  {
   "cell_type": "code",
   "execution_count": 10,
   "metadata": {},
   "outputs": [],
   "source": [
    "#Import Data\n",
    "testset=pd.read_csv('test.csv',sep=',',header=0)"
   ]
  },
  {
   "cell_type": "code",
   "execution_count": 24,
   "metadata": {},
   "outputs": [],
   "source": [
    "testset['condition_numeric'] = testset.condition.map({\n",
    "   'Fair': 0,\n",
    "   'Good': 1,\n",
    "   'Like New': 2\n",
    "})\n",
    "testset['area_number_numberic'] = testset.area_name.map({\n",
    "   'fff': 0,\n",
    "   'aaa': 1,\n",
    "   'ddd': 2,\n",
    "   'jjj': 3,\n",
    "   'hhh': 4,\n",
    "   'bbb': 5,\n",
    "   'ccc': 6,\n",
    "   'ggg': 7,\n",
    "   'kkk': 8,\n",
    "   'eee': 9\n",
    "})\n",
    "testset['day_number_numberic'] = testset.day.map({\n",
    "   'Sun': 0,\n",
    "   'Mon': 1,\n",
    "   'Tue': 2,\n",
    "   'Wed': 3,\n",
    "   'Thu': 4,\n",
    "   'Fri': 5,\n",
    "   'Sat': 6\n",
    "})"
   ]
  },
  {
   "cell_type": "code",
   "execution_count": 25,
   "metadata": {},
   "outputs": [],
   "source": [
    "X1 = testset[[\n",
    "   'item_id', 'sold_price', 'price', 'area_number_numberic',\n",
    "   'condition_numeric', 'size', 'day_number_numberic', 'hour'\n",
    "]]"
   ]
  },
  {
   "cell_type": "code",
   "execution_count": 26,
   "metadata": {},
   "outputs": [],
   "source": [
    "output = random_classifier.predict(X1)"
   ]
  },
  {
   "cell_type": "code",
   "execution_count": 27,
   "metadata": {},
   "outputs": [
    {
     "name": "stdout",
     "output_type": "stream",
     "text": [
      "[2 0 1 1 2 0 0 0 0 1 2 0 0 3 0 2 3 1 0 2 2 0 2 0 1 0 4 2 2 0 0 1 2 0 1 0 2\n",
      " 1 0 0 0 4 0 2 1 1 1 0 1 0 2 1 1 3 2 0 0 1 0 0 2 2 0 1 1 0 1 0 0 0 2 0 3 1\n",
      " 0 0 1 2 2 0 0 4 1 0 0 4 2 1 1 1 3 2 1 2 3 2 0 0 0 0 3 0 3 2 0 2 4 1 3 1 0\n",
      " 0 1 2 2 0 1 0 0 2 0 0 2 0 0 0 0 2 0 0 0 4 0 3 4 2 0 3 0 0 2 0 3 0 0 2 3 1\n",
      " 0 0 0 0 0 3 2 3 3 1 0 0 0 3 2 4 0 2 2 1 2 4 0 0 0 2 1 1 2 0 1 1 2 0 3 2 1\n",
      " 0 1 0 2 0 3 1 1 0 1 2 0 2 4 2 2 2 0 0 2 0 0 3 2 2 0 0 0 2 0 1 2 2 4 0 1 3\n",
      " 2 0 0 2 1 0 2 1 0 0 1 0 1 4 1 1 2 0 4 0 0 0 2 1 3 0 2 3 1 0 0 1 1 2 4 0 3\n",
      " 0 3 1 0 2 0 0 2 0 3 1 0 2 0 0 2 0 1 0 0 1 2 1 1 2 0 2 0 0 0 3 0 0 3 0 1 0\n",
      " 3 1 2 1]\n"
     ]
    }
   ],
   "source": [
    "print(output)"
   ]
  },
  {
   "cell_type": "code",
   "execution_count": null,
   "metadata": {},
   "outputs": [],
   "source": []
  }
 ],
 "metadata": {
  "kernelspec": {
   "display_name": "Python 3",
   "language": "python",
   "name": "python3"
  },
  "language_info": {
   "codemirror_mode": {
    "name": "ipython",
    "version": 3
   },
   "file_extension": ".py",
   "mimetype": "text/x-python",
   "name": "python",
   "nbconvert_exporter": "python",
   "pygments_lexer": "ipython3",
   "version": "3.6.6"
  }
 },
 "nbformat": 4,
 "nbformat_minor": 2
}
